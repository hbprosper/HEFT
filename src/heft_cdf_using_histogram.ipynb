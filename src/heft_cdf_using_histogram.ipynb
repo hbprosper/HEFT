{
 "cells": [
  {
   "cell_type": "markdown",
   "metadata": {
    "id": "40Yb47zJQglm"
   },
   "source": [
    "## Higgs Effective Field Theory (HEFT) Study\n",
    "## Approximate $\\mathbb{P}(\\lambda \\le \\lambda_0 | \\theta) = \\mathbb{E}(Z | \\theta)$ by histogramming\n",
    "> Created: Feb 12, 2024 Nicola de Filippis, Kurtis Johnson, Harrison B. Prosper<br>\n",
    "\n",
    "### Introduction\n",
    "The purpose of this project is to approximate $\\mathbb{P}(\\lambda \\le \\lambda_0 | \\theta) = \\mathbb{E}(Z | \\theta)$ in two different ways: 1) using a 3D histogram and 2) a machine learning (ML) model, where for a given hypothesis $H_0: \\theta = \\theta_0$ versus $H_1: \\theta \\ne \\theta_0$, $\\lambda_0$ is the observed value of a test statistic $\\lambda$ with the property that large values of the test statistic *disfavor* the hypothesis $H_0$. In this project, the physics model of interest is the Higgs effective field theory (HEFT), defined by a 5D parameter space of Wilson coefficients[1]:\n",
    "\\begin{align}\n",
    "    \\theta & = c_{hhh}, c_t, c_{tt}, c_{ggh}, c_{gghh}.\n",
    "\\end{align}\n",
    "\n",
    "For this investigation, we restrict our attention to a single observable, namely, the di-Higgs mass denoted by $m_{hh}$. This notebook plots the differential cross section[1]\n",
    "\\begin{align}\n",
    "    \\frac{d\\sigma}{d m_{hh}} \n",
    "    & = a_{1} c_{t}^{4} + a_{2} c_{tt}^{2} + a_{3} c_{t}^{2} c_{hhh}^{2} + a_{4} c_{ggh}^{2} c_{hhh}^{2}\n",
    "    \\nonumber\\\\\n",
    "    & + a_{5} c_{gghh}^{2} + a_{6} c_{t}^{2} c_{tt} + a_{7} c_{t}^{3} c_{hhh} \n",
    "    \\nonumber\\\\\n",
    "    & + a_{8} c_{t} c_{hhh} c_{tt} + a_{9} c_{ggh} c_{hhh} c_{tt} + a_{10} c_{gghh} c_{tt} \n",
    "    \\nonumber\\\\ \n",
    "    & + a_{11} c_{t}^{2} c_{ggh} c_{hhh} + a_{12} c_{t}^{2} c_{gghh} \n",
    "    \\nonumber\\\\\n",
    "    & + a_{13} c_{t} c_{ggh} c_{hhh}^{2} + a_{14} c_{t} c_{gghh} c_{hhh} \\nonumber\\\\\n",
    "    & + a_{15} c_{gghh} c_{ggh} c_{hhh} + a_{16} c_{t}^{3} c_{ggh} \\nonumber\\\\\n",
    "    & + a_{17} c_{t} c_{ggh} c_{tt} + a_{18} c_{t} c_{ggh}^{2} c_{hhh}  \\nonumber\\\\\n",
    "    & + a_{19} c_{t} c_{gghh} c_{ggh} + a_{20} c_{t}^{2} c_{ggh}^{2}  \\nonumber\\\\ \n",
    "    & + a_{21} c_{ggh}^{2} c_{tt} + a_{22} c_{ggh}^{3} c_{hhh} \\nonumber\\\\\n",
    "    & + a_{23} c_{gghh} c_{ggh}^{2} , \n",
    "\\end{align}\n",
    "for each HEFT parameter point, where the coefficients $a_i$ depend on the di-Higgs mass $m_{hh}$. In this investigation, we set $c_{hhh} = c_t = 1$, which reduces the parameter space to 3 dimensions (note, `klambda` is a synonym for $c_{hhh}$) in which case the differential cross section simplifies to\n",
    "\\begin{align}\n",
    "    \\frac{d\\sigma}{d m_{hh}} & = b_1 \\nonumber\\\\\n",
    "    & + b_2 c_{gghh} + b_3 c_{ggh} + b_4 c_{tt} \\nonumber\\\\ \n",
    "    & + b_5 c_{tt} c_{gghh} +  b_6 c_{gghh} c_{ggh} + b_7 c_{tt} c_{ggh} \n",
    "    \\nonumber\\\\\n",
    "    &  + b_8 c_{tt} c_{ggh}^2 + b_9 c_{gghh} c_{ggh}^2 + b_{10} c_{tt}^2  + b_{11} c_{gghh}^2 + b_{12} c_{ggh}^2 + b_{13} c_{ggh}^3 ,\n",
    "\\end{align}\n",
    "where we have introduced 13 new coefficients, $b_i(m_{hh})$, formed from the original coefficients $a_i$.\n",
    "\n",
    "### Approximating $\\mathbb{P}(\\lambda \\le \\lambda_0 | \\theta) = \\mathbb{E}(Z | \\theta)$ by histogramming\n",
    "\n",
    "The quantity $\\mathbb{E}(Z | \\theta)$ can be approximated using the following algorithm, which therefore provides a way to check the quality of the deep neural network model.\n",
    "\n",
    "  1. Create histogram $h_w \\gets \\text{histogram}(\\theta, \\text{weight}=Z)$\n",
    "  1. Create histogram $h_u \\gets \\text{histogram}(\\theta, \\text{weight}=1)$\n",
    "  1. Approximate $\\mathbb{P}(\\lambda \\le \\lambda_0 | \\theta)$ by $h_w \\, / \\, h_u$\n",
    "\n",
    "### References\n",
    "  1. Lina Alasfar *et al.*, arXiv:2304.01968v1\n",
    "  1. Ann Lee *et al.*, https://arxiv.org/abs/2107.03920"
   ]
  },
  {
   "cell_type": "code",
   "execution_count": 1,
   "metadata": {
    "id": "FA1Y5VCv20XZ"
   },
   "outputs": [],
   "source": [
    "import os, sys\n",
    "\n",
    "# the standard module for tabular data\n",
    "import pandas as pd\n",
    "\n",
    "# the standard module for array manipulation\n",
    "import numpy as np\n",
    "\n",
    "# the standard modules for high-quality plots\n",
    "import matplotlib as mp\n",
    "import matplotlib.pyplot as plt\n",
    "%matplotlib inline\n",
    "\n",
    "# standard scientific python module\n",
    "import scipy as sp\n",
    "import scipy.stats as st\n",
    "import scipy.optimize as op\n",
    "\n",
    "# pytorch\n",
    "import torch\n",
    "import torch.nn as nn\n",
    "\n",
    "# split data into a training set and a test set\n",
    "from sklearn.model_selection import train_test_split\n",
    "\n",
    "# to reload modules\n",
    "import importlib"
   ]
  },
  {
   "cell_type": "code",
   "execution_count": 2,
   "metadata": {},
   "outputs": [],
   "source": [
    "# update fonts\n",
    "FONTSIZE = 16\n",
    "font = {'family' : 'serif',\n",
    "        'weight' : 'normal',\n",
    "        'size'   : FONTSIZE}\n",
    "mp.rc('font', **font)\n",
    "\n",
    "# set usetex = False if LaTex is not \n",
    "# available on your system or if the \n",
    "# rendering is too slow\n",
    "mp.rc('text', usetex=True)\n",
    "\n",
    "# set a seed to ensure reproducibility\n",
    "seed = 217\n",
    "rnd  = np.random.RandomState(seed)"
   ]
  },
  {
   "cell_type": "markdown",
   "metadata": {},
   "source": [
    "### Load data\n",
    "\n",
    "Note 1: $\\kappa_\\lambda \\equiv c_{hhh}$.\n",
    "\n",
    "Note 2: The bin widths in $m_{hh}$ is 15 GeV."
   ]
  },
  {
   "cell_type": "code",
   "execution_count": 3,
   "metadata": {},
   "outputs": [
    {
     "name": "stdout",
     "output_type": "stream",
     "text": [
      "loading ../data/powheg_total_param_closeBP.csv\n",
      "number of rows: 168\n"
     ]
    },
    {
     "data": {
      "text/html": [
       "<div>\n",
       "<style scoped>\n",
       "    .dataframe tbody tr th:only-of-type {\n",
       "        vertical-align: middle;\n",
       "    }\n",
       "\n",
       "    .dataframe tbody tr th {\n",
       "        vertical-align: top;\n",
       "    }\n",
       "\n",
       "    .dataframe thead th {\n",
       "        text-align: right;\n",
       "    }\n",
       "</style>\n",
       "<table border=\"1\" class=\"dataframe\">\n",
       "  <thead>\n",
       "    <tr style=\"text-align: right;\">\n",
       "      <th></th>\n",
       "      <th>klambda</th>\n",
       "      <th>CT</th>\n",
       "      <th>CTT</th>\n",
       "      <th>CGHH</th>\n",
       "      <th>CGGHH</th>\n",
       "      <th>0</th>\n",
       "      <th>1</th>\n",
       "      <th>2</th>\n",
       "      <th>3</th>\n",
       "      <th>4</th>\n",
       "      <th>...</th>\n",
       "      <th>92</th>\n",
       "      <th>93</th>\n",
       "      <th>94</th>\n",
       "      <th>95</th>\n",
       "      <th>96</th>\n",
       "      <th>97</th>\n",
       "      <th>98</th>\n",
       "      <th>99</th>\n",
       "      <th>100</th>\n",
       "      <th>101</th>\n",
       "    </tr>\n",
       "  </thead>\n",
       "  <tbody>\n",
       "    <tr>\n",
       "      <th>0</th>\n",
       "      <td>1.0</td>\n",
       "      <td>1.0</td>\n",
       "      <td>-1.5</td>\n",
       "      <td>-0.6</td>\n",
       "      <td>0.6</td>\n",
       "      <td>0.0</td>\n",
       "      <td>0.0</td>\n",
       "      <td>0.0</td>\n",
       "      <td>0.0</td>\n",
       "      <td>0.0</td>\n",
       "      <td>...</td>\n",
       "      <td>0.005091</td>\n",
       "      <td>0.005331</td>\n",
       "      <td>0.003152</td>\n",
       "      <td>0.003647</td>\n",
       "      <td>0.003640</td>\n",
       "      <td>0.002667</td>\n",
       "      <td>0.002908</td>\n",
       "      <td>0.003146</td>\n",
       "      <td>0.004364</td>\n",
       "      <td>0.095064</td>\n",
       "    </tr>\n",
       "    <tr>\n",
       "      <th>1</th>\n",
       "      <td>1.0</td>\n",
       "      <td>1.0</td>\n",
       "      <td>-1.0</td>\n",
       "      <td>1.0</td>\n",
       "      <td>0.0</td>\n",
       "      <td>0.0</td>\n",
       "      <td>0.0</td>\n",
       "      <td>0.0</td>\n",
       "      <td>0.0</td>\n",
       "      <td>0.0</td>\n",
       "      <td>...</td>\n",
       "      <td>0.000858</td>\n",
       "      <td>0.001574</td>\n",
       "      <td>0.001289</td>\n",
       "      <td>0.001002</td>\n",
       "      <td>0.000430</td>\n",
       "      <td>0.001001</td>\n",
       "      <td>0.000429</td>\n",
       "      <td>0.001001</td>\n",
       "      <td>0.000430</td>\n",
       "      <td>0.012881</td>\n",
       "    </tr>\n",
       "    <tr>\n",
       "      <th>2</th>\n",
       "      <td>1.0</td>\n",
       "      <td>1.0</td>\n",
       "      <td>0.5</td>\n",
       "      <td>0.2</td>\n",
       "      <td>0.0</td>\n",
       "      <td>0.0</td>\n",
       "      <td>0.0</td>\n",
       "      <td>0.0</td>\n",
       "      <td>0.0</td>\n",
       "      <td>0.0</td>\n",
       "      <td>...</td>\n",
       "      <td>0.000134</td>\n",
       "      <td>0.000134</td>\n",
       "      <td>0.000144</td>\n",
       "      <td>0.000072</td>\n",
       "      <td>0.000123</td>\n",
       "      <td>0.000061</td>\n",
       "      <td>0.000153</td>\n",
       "      <td>0.000093</td>\n",
       "      <td>0.000113</td>\n",
       "      <td>0.002095</td>\n",
       "    </tr>\n",
       "    <tr>\n",
       "      <th>3</th>\n",
       "      <td>1.0</td>\n",
       "      <td>1.0</td>\n",
       "      <td>-3.0</td>\n",
       "      <td>-1.0</td>\n",
       "      <td>-0.8</td>\n",
       "      <td>0.0</td>\n",
       "      <td>0.0</td>\n",
       "      <td>0.0</td>\n",
       "      <td>0.0</td>\n",
       "      <td>0.0</td>\n",
       "      <td>...</td>\n",
       "      <td>0.018563</td>\n",
       "      <td>0.006749</td>\n",
       "      <td>0.015196</td>\n",
       "      <td>0.010141</td>\n",
       "      <td>0.015190</td>\n",
       "      <td>0.010134</td>\n",
       "      <td>0.013507</td>\n",
       "      <td>0.003378</td>\n",
       "      <td>0.008441</td>\n",
       "      <td>0.130053</td>\n",
       "    </tr>\n",
       "    <tr>\n",
       "      <th>4</th>\n",
       "      <td>1.0</td>\n",
       "      <td>1.0</td>\n",
       "      <td>-3.0</td>\n",
       "      <td>1.0</td>\n",
       "      <td>1.0</td>\n",
       "      <td>0.0</td>\n",
       "      <td>0.0</td>\n",
       "      <td>0.0</td>\n",
       "      <td>0.0</td>\n",
       "      <td>0.0</td>\n",
       "      <td>...</td>\n",
       "      <td>0.013665</td>\n",
       "      <td>0.015821</td>\n",
       "      <td>0.019422</td>\n",
       "      <td>0.014372</td>\n",
       "      <td>0.010073</td>\n",
       "      <td>0.015819</td>\n",
       "      <td>0.014374</td>\n",
       "      <td>0.010777</td>\n",
       "      <td>0.014385</td>\n",
       "      <td>0.281800</td>\n",
       "    </tr>\n",
       "  </tbody>\n",
       "</table>\n",
       "<p>5 rows × 107 columns</p>\n",
       "</div>"
      ],
      "text/plain": [
       "   klambda   CT  CTT  CGHH  CGGHH    0    1    2    3    4  ...        92  \\\n",
       "0      1.0  1.0 -1.5  -0.6    0.6  0.0  0.0  0.0  0.0  0.0  ...  0.005091   \n",
       "1      1.0  1.0 -1.0   1.0    0.0  0.0  0.0  0.0  0.0  0.0  ...  0.000858   \n",
       "2      1.0  1.0  0.5   0.2    0.0  0.0  0.0  0.0  0.0  0.0  ...  0.000134   \n",
       "3      1.0  1.0 -3.0  -1.0   -0.8  0.0  0.0  0.0  0.0  0.0  ...  0.018563   \n",
       "4      1.0  1.0 -3.0   1.0    1.0  0.0  0.0  0.0  0.0  0.0  ...  0.013665   \n",
       "\n",
       "         93        94        95        96        97        98        99  \\\n",
       "0  0.005331  0.003152  0.003647  0.003640  0.002667  0.002908  0.003146   \n",
       "1  0.001574  0.001289  0.001002  0.000430  0.001001  0.000429  0.001001   \n",
       "2  0.000134  0.000144  0.000072  0.000123  0.000061  0.000153  0.000093   \n",
       "3  0.006749  0.015196  0.010141  0.015190  0.010134  0.013507  0.003378   \n",
       "4  0.015821  0.019422  0.014372  0.010073  0.015819  0.014374  0.010777   \n",
       "\n",
       "        100       101  \n",
       "0  0.004364  0.095064  \n",
       "1  0.000430  0.012881  \n",
       "2  0.000113  0.002095  \n",
       "3  0.008441  0.130053  \n",
       "4  0.014385  0.281800  \n",
       "\n",
       "[5 rows x 107 columns]"
      ]
     },
     "execution_count": 3,
     "metadata": {},
     "output_type": "execute_result"
    }
   ],
   "source": [
    "BIN_WIDTH = 15.0 # GeV\n",
    "\n",
    "datafile = f'../data/powheg_total_param_closeBP.csv'\n",
    "\n",
    "print('loading %s' % datafile)\n",
    "dfBP = pd.read_csv(datafile)\n",
    "print('number of rows:', len(dfBP))\n",
    "\n",
    "dfBP[:5]"
   ]
  },
  {
   "cell_type": "code",
   "execution_count": 4,
   "metadata": {},
   "outputs": [
    {
     "name": "stdout",
     "output_type": "stream",
     "text": [
      "loading ../data/powheg_total_param_SM.csv\n",
      "number of rows: 1\n"
     ]
    },
    {
     "data": {
      "text/html": [
       "<div>\n",
       "<style scoped>\n",
       "    .dataframe tbody tr th:only-of-type {\n",
       "        vertical-align: middle;\n",
       "    }\n",
       "\n",
       "    .dataframe tbody tr th {\n",
       "        vertical-align: top;\n",
       "    }\n",
       "\n",
       "    .dataframe thead th {\n",
       "        text-align: right;\n",
       "    }\n",
       "</style>\n",
       "<table border=\"1\" class=\"dataframe\">\n",
       "  <thead>\n",
       "    <tr style=\"text-align: right;\">\n",
       "      <th></th>\n",
       "      <th>klambda</th>\n",
       "      <th>CT</th>\n",
       "      <th>CTT</th>\n",
       "      <th>CGHH</th>\n",
       "      <th>CGGHH</th>\n",
       "      <th>0</th>\n",
       "      <th>1</th>\n",
       "      <th>2</th>\n",
       "      <th>3</th>\n",
       "      <th>4</th>\n",
       "      <th>...</th>\n",
       "      <th>92</th>\n",
       "      <th>93</th>\n",
       "      <th>94</th>\n",
       "      <th>95</th>\n",
       "      <th>96</th>\n",
       "      <th>97</th>\n",
       "      <th>98</th>\n",
       "      <th>99</th>\n",
       "      <th>100</th>\n",
       "      <th>101</th>\n",
       "    </tr>\n",
       "  </thead>\n",
       "  <tbody>\n",
       "    <tr>\n",
       "      <th>0</th>\n",
       "      <td>1</td>\n",
       "      <td>1</td>\n",
       "      <td>0</td>\n",
       "      <td>0</td>\n",
       "      <td>0</td>\n",
       "      <td>0</td>\n",
       "      <td>0</td>\n",
       "      <td>0</td>\n",
       "      <td>0</td>\n",
       "      <td>0</td>\n",
       "      <td>...</td>\n",
       "      <td>0.000031</td>\n",
       "      <td>0</td>\n",
       "      <td>0.00001</td>\n",
       "      <td>0.000042</td>\n",
       "      <td>0</td>\n",
       "      <td>0.00001</td>\n",
       "      <td>0.000042</td>\n",
       "      <td>0.00001</td>\n",
       "      <td>0.000031</td>\n",
       "      <td>0.000157</td>\n",
       "    </tr>\n",
       "  </tbody>\n",
       "</table>\n",
       "<p>1 rows × 107 columns</p>\n",
       "</div>"
      ],
      "text/plain": [
       "   klambda  CT  CTT  CGHH  CGGHH  0  1  2  3  4  ...        92  93       94  \\\n",
       "0        1   1    0     0      0  0  0  0  0  0  ...  0.000031   0  0.00001   \n",
       "\n",
       "         95  96       97        98       99       100       101  \n",
       "0  0.000042   0  0.00001  0.000042  0.00001  0.000031  0.000157  \n",
       "\n",
       "[1 rows x 107 columns]"
      ]
     },
     "execution_count": 4,
     "metadata": {},
     "output_type": "execute_result"
    }
   ],
   "source": [
    "datafile = f'../data/powheg_total_param_SM.csv'\n",
    "\n",
    "print('loading %s' % datafile)\n",
    "dfSM = pd.read_csv(datafile)\n",
    "print('number of rows:', len(dfSM))\n",
    "\n",
    "dfSM"
   ]
  },
  {
   "cell_type": "markdown",
   "metadata": {},
   "source": [
    "### Convert to $\\texttt{numpy}$ arrays"
   ]
  },
  {
   "cell_type": "code",
   "execution_count": 5,
   "metadata": {},
   "outputs": [
    {
     "name": "stdout",
     "output_type": "stream",
     "text": [
      "(168, 3)\n",
      "(168, 85)\n"
     ]
    }
   ],
   "source": [
    "# get Wilson coefficients\n",
    "wilson = dfBP[['CTT', 'CGHH', 'CGGHH']].to_numpy()\n",
    "print(wilson.shape)\n",
    "\n",
    "# get spectra\n",
    "first_bin= 15\n",
    "last_bin = 100\n",
    "\n",
    "# construct bin names\n",
    "cols = [str(x) for x in range(first_bin, last_bin)]\n",
    "BP = dfBP[cols].to_numpy()\n",
    "SM = dfSM[cols].to_numpy()\n",
    "\n",
    "print(BP.shape)"
   ]
  },
  {
   "cell_type": "markdown",
   "metadata": {},
   "source": [
    "### Get total cross sections (in pb) and protect against negative HEFT bins"
   ]
  },
  {
   "cell_type": "code",
   "execution_count": 6,
   "metadata": {},
   "outputs": [
    {
     "data": {
      "text/plain": [
       "(0.0, 0.017281655, -0.0002928526955656, 2.342081546783448)"
      ]
     },
     "execution_count": 6,
     "metadata": {},
     "output_type": "execute_result"
    }
   ],
   "source": [
    "SM.min(), SM.max(), BP.min(), BP.max()"
   ]
  },
  {
   "cell_type": "code",
   "execution_count": 7,
   "metadata": {},
   "outputs": [
    {
     "name": "stdout",
     "output_type": "stream",
     "text": [
      "cross section (SM): \t\t   0.223 pb\n",
      "cross section (BP) (min, max):     0.076 pb,   43.762 pb\n"
     ]
    }
   ],
   "source": [
    "BP = np.where(BP < 0, 0, BP) # protect against negative cross sections\n",
    "SM_xsec = SM.sum()\n",
    "BP_xsec = BP.sum(axis=1)\n",
    "print(f'cross section (SM): \\t\\t{SM_xsec:8.3f} pb')\n",
    "print(f'cross section (BP) (min, max):  {BP_xsec.min():8.3f} pb, {BP_xsec.max():8.3f} pb')"
   ]
  },
  {
   "cell_type": "markdown",
   "metadata": {},
   "source": [
    "### Plot $m_{hh}$ spectra"
   ]
  },
  {
   "cell_type": "code",
   "execution_count": 8,
   "metadata": {},
   "outputs": [],
   "source": [
    "def plot_spectra(d, ymax=2.5, alpha=0.5, ylabel=r'$d\\sigma$ (pb)',\n",
    "                 filename='figures/fig_mhh.pdf', \n",
    "                 fgsize=(8, 4), ftsize=18):\n",
    "\n",
    "    # compute mid-points of bins and map mhh to unit interval\n",
    "    m, xbins = d.shape\n",
    "    x = np.linspace(0, 1, xbins+1)\n",
    "    \n",
    "    # x[1:] = x[1], x[2] ...,x[n-1]\n",
    "    # x[:-1]= x[0], x[1],...,x[n-2]\n",
    "    x = (x[1:]+x[:-1])/2\n",
    "\n",
    "    # make a plot with a single figure\n",
    "    fig, ax = plt.subplots(nrows=1, ncols=1, figsize=fgsize)\n",
    "\n",
    "    xmin, xmax = 0, 1.0\n",
    "    ax.set_xlim(xmin, xmax)\n",
    "    ax.set_xlabel(r'$m_{hh}$', fontsize=ftsize)\n",
    "\n",
    "    ymin = 0\n",
    "    ax.set_ylim(ymin, ymax)\n",
    "    ax.set_ylabel(ylabel, fontsize=ftsize)\n",
    "\n",
    "    # loop over HEFT points\n",
    "    for row in d:\n",
    "        ax.hist(x, \n",
    "                bins=xbins, \n",
    "                range=(xmin, xmax), \n",
    "                weights=row,\n",
    "                alpha=alpha)\n",
    "    ax.grid() \n",
    "    \n",
    "    plt.tight_layout()\n",
    "    plt.savefig(filename)\n",
    "    return"
   ]
  },
  {
   "cell_type": "code",
   "execution_count": 9,
   "metadata": {},
   "outputs": [
    {
     "data": {
      "image/png": "[encoded data removed]",
      "text/plain": [
       "<Figure size 800x400 with 1 Axes>"
      ]
     },
     "metadata": {},
     "output_type": "display_data"
    },
    {
     "data": {
      "image/png": "[encoded data removed]",
      "text/plain": [
       "<Figure size 800x400 with 1 Axes>"
      ]
     },
     "metadata": {},
     "output_type": "display_data"
    }
   ],
   "source": [
    "plot_spectra(SM, ymax=0.02, filename='figures/fig_mhh_SM.pdf')\n",
    "plot_spectra(BP, ymax=2.50, filename='figures/fig_mhh_BP.pdf')"
   ]
  },
  {
   "cell_type": "markdown",
   "metadata": {},
   "source": [
    "### Bin HEFT parameter points using $\\texttt{turtlebinning}$\n",
    "\n",
    "The parameter points to be binned, $\\{(x_i, y_i, z_i), i=1,\\cdots,N \\}$ must be flattened into a single array arranged as follows:\n",
    "$x_1,\\cdots,x_N, y_1,\\cdots,y_N, z_1,\\cdots,z_N$. The $\\texttt{numpy}$ array `wilson` is of shape (168, 3), so we must first transpose it to shape (3, 168) and then flatten it.\n",
    "\n",
    "See the example below."
   ]
  },
  {
   "cell_type": "code",
   "execution_count": 10,
   "metadata": {},
   "outputs": [
    {
     "data": {
      "text/plain": [
       "((4, 3),\n",
       " array([[1, 2, 3],\n",
       "        [1, 2, 3],\n",
       "        [1, 2, 3],\n",
       "        [1, 2, 3]]),\n",
       " array([1, 1, 1, 1, 2, 2, 2, 2, 3, 3, 3, 3]))"
      ]
     },
     "execution_count": 10,
     "metadata": {},
     "output_type": "execute_result"
    }
   ],
   "source": [
    "a = np.array([[1,2,3], [1,2,3], [1,2,3], [1,2,3]])\n",
    "a.shape, a, a.T.flatten()"
   ]
  },
  {
   "cell_type": "markdown",
   "metadata": {},
   "source": [
    "$\\texttt{turtlebinning}$ is a convenient wrapper arpund the ROOT class TKDTreeBinnning."
   ]
  },
  {
   "cell_type": "code",
   "execution_count": 11,
   "metadata": {},
   "outputs": [
    {
     "name": "stdout",
     "output_type": "stream",
     "text": [
      "Welcome to JupyROOT 6.30/02\n",
      "\tloading turtlebinning\n"
     ]
    }
   ],
   "source": [
    "import turtlebinning as tb\n",
    "from array import array"
   ]
  },
  {
   "cell_type": "code",
   "execution_count": 12,
   "metadata": {},
   "outputs": [
    {
     "name": "stdout",
     "output_type": "stream",
     "text": [
      "building indices map...\n",
      "           0\n",
      "done\n",
      "number of bins: 14\n",
      "entries/bin:    12\n",
      "data size:      168\n"
     ]
    }
   ],
   "source": [
    "# create a simple (i.e., a non-numpy) array\n",
    "data = array('d')\n",
    "# transpose and flatten the 2D wilson array\n",
    "data.extend(wilson.T.flatten())\n",
    "\n",
    "# bin data\n",
    "npoints = len(wilson) # number of HEFT parameter points\n",
    "nbins = 14            # number of bins\n",
    "ndims = 3             # dimension of parameter space\n",
    "ttb   = tb.Turtle(data, nbins, npoints, ndims)"
   ]
  },
  {
   "cell_type": "markdown",
   "metadata": {},
   "source": [
    "### Construct \"observed\" spectrum"
   ]
  },
  {
   "cell_type": "code",
   "execution_count": 13,
   "metadata": {},
   "outputs": [
    {
     "data": {
      "image/png": "[encoded data removed]",
      "text/plain": [
       "<Figure size 800x400 with 1 Axes>"
      ]
     },
     "metadata": {},
     "output_type": "display_data"
    }
   ],
   "source": [
    "SM_mean_count = 100\n",
    "\n",
    "# effective integrated luminosity\n",
    "L_eff = SM_mean_count / SM_xsec\n",
    "\n",
    "# compute Poisson means\n",
    "SM_A = SM * L_eff\n",
    "\n",
    "# generate \"observed\" data\n",
    "D = np.random.poisson(SM_A)\n",
    "\n",
    "# make a plot\n",
    "T = np.concatenate([SM_A, D])\n",
    "plot_spectra(T, ymax=15, ylabel='counts', filename='figures/fig_mhh_obs.pdf')"
   ]
  },
  {
   "cell_type": "markdown",
   "metadata": {},
   "source": [
    "### Generate spectrum $X_j$ at each HEFT point $\\theta_j$\n",
    "For simplicity, for now, we'll assume the same effective integrated luminosity."
   ]
  },
  {
   "cell_type": "code",
   "execution_count": 14,
   "metadata": {},
   "outputs": [
    {
     "name": "stdout",
     "output_type": "stream",
     "text": [
      "(168, 85) (168, 85)\n"
     ]
    },
    {
     "data": {
      "image/png": "[encoded data removed]",
      "text/plain": [
       "<Figure size 800x400 with 1 Axes>"
      ]
     },
     "metadata": {},
     "output_type": "display_data"
    }
   ],
   "source": [
    "# compute mean counts at each HEFT point\n",
    "BP_A = BP * L_eff \n",
    "\n",
    "# generate data at each HEFT point\n",
    "X = np.random.poisson(BP_A)\n",
    "print(X.shape, BP_A.shape)\n",
    "\n",
    "# make a plot\n",
    "plot_spectra(X, ymax=1200, ylabel='counts / 15 GeV', filename='figures/fig_mhh_X.pdf')"
   ]
  },
  {
   "cell_type": "markdown",
   "metadata": {},
   "source": [
    "### Construct test statistic\n",
    "\n",
    "For now, we'll use the following simple test statistic,\n",
    "\\begin{align}\n",
    "    \\lambda(X; \\theta) & = \\frac{1}{M} \\sum_{i=1}^M \\frac{(X_i - T_i(\\theta))^2}{T_i(\\theta)},\n",
    "\\end{align}\n",
    "where $M$ is the number of bins with non-zero predicted mean counts. We hasten to add that the density of $\\lambda$, $f(\\lambda | \\theta)$ is not necessarily $\\chi^2$! The only requirement for $\\lambda$ is that large values cast doubt on the hypothesis $H_0 : \\theta = \\theta_0$.\n",
    "\n",
    "Given the effective integrated luminosity, $\\ell = \\epsilon {\\cal L}$, the mean event count is $n = \\sigma \\, {\\cal L}$, where $\\epsilon$ and ${\\cal L}$ are the efficiency (times acceptance) and integrated luminosity, respectively, We'll assume an effective integrated luminosity such that the mean `SM_mean_count` $= 100$ events. Then we sample from the SM $m_{hh}$ spectrum to mimic the *fixed* \"observed\" data, $D$, and we sample from the predicted spectrum at each of the HEFT parameter points taking care to use the correct mean count relative to that of the SM.\n",
    "\n",
    "  1. Normalize the SM spectrum so that the area = mean count.\n",
    "  3. Create \"observed\" $m_{hh}$ spectrum by sampling each bin independently using a Poisson distribution.\n",
    "  4. Loop over each of the HEFT points and generate data from the predicted spectrum."
   ]
  },
  {
   "cell_type": "code",
   "execution_count": 15,
   "metadata": {},
   "outputs": [],
   "source": [
    "def test_statistic(X, T, T_min=0):\n",
    "    t = np.where(T > 0, T, 1)\n",
    "    l = ((X - t)**2 / t)\n",
    "    return l.mean(axis=1)"
   ]
  },
  {
   "cell_type": "markdown",
   "metadata": {},
   "source": [
    "### Compute indicators $Z_j = \\mathbb{I}[\\lambda(X_j; \\theta_j) \\leq \\lambda(D; \\theta_j)]$\n",
    "\n",
    "For every HEFT parameter point $\\theta_j = (c_{tt}, c_{ghh}, c_{gghh})_j$ compute $Z_j$."
   ]
  },
  {
   "cell_type": "code",
   "execution_count": 16,
   "metadata": {},
   "outputs": [
    {
     "data": {
      "image/png": "[encoded data removed]",
      "text/plain": [
       "<Figure size 400x400 with 1 Axes>"
      ]
     },
     "metadata": {},
     "output_type": "display_data"
    },
    {
     "data": {
      "image/png": "[encoded data removed]",
      "text/plain": [
       "<Figure size 400x400 with 1 Axes>"
      ]
     },
     "metadata": {},
     "output_type": "display_data"
    }
   ],
   "source": [
    "def plot_test_statistics(l, xbins=25, label='',\n",
    "                 filename='figures/fig_test_stats.pdf', \n",
    "                 fgsize=(4, 4), ftsize=18):\n",
    "\n",
    "    # make a plot with a single figure\n",
    "    fig, ax = plt.subplots(nrows=1, ncols=1, figsize=fgsize)\n",
    "\n",
    "    ax.set_xlabel(r'$\\lambda$', fontsize=ftsize)\n",
    "    ax.hist(l, bins=xbins, alpha=0.5, label=label)\n",
    "    #ax.set_xscale('log')\n",
    "    ax.legend()\n",
    "    \n",
    "    plt.tight_layout()\n",
    "    plt.savefig(filename)\n",
    "\n",
    "# compute test statistics\n",
    "lx = test_statistic(X, BP_A)\n",
    "l0 = test_statistic(D, BP_A)\n",
    "\n",
    "plot_test_statistics(lx, label=r'$\\lambda(X;\\theta)$')\n",
    "plot_test_statistics(l0, label=r'$\\lambda(D;\\theta)$')"
   ]
  },
  {
   "cell_type": "code",
   "execution_count": null,
   "metadata": {},
   "outputs": [],
   "source": []
  }
 ],
 "metadata": {
  "accelerator": "GPU",
  "colab": {
   "collapsed_sections": [],
   "name": "DRL_19_REINFORCE_Algorithm.ipynb",
   "provenance": []
  },
  "kernelspec": {
   "display_name": "Python 3 (ipykernel)",
   "language": "python",
   "name": "python3"
  },
  "language_info": {
   "codemirror_mode": {
    "name": "ipython",
    "version": 3
   },
   "file_extension": ".py",
   "mimetype": "text/x-python",
   "name": "python",
   "nbconvert_exporter": "python",
   "pygments_lexer": "ipython3",
   "version": "3.11.7"
  }
 },
 "nbformat": 4,
 "nbformat_minor": 4
}
