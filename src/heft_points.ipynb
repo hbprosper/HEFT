{
 "cells": [
  {
   "cell_type": "markdown",
   "metadata": {
    "id": "40Yb47zJQglm"
   },
   "source": [
    "## Higgs Effective Field Theory: Parameters\n",
    "Created: Feb 12, 2024 Nicola de Filippis, Kurtis Johnson, Harrison B. Prosper<br>\n",
    "\n",
    "### Introduction \n",
    "The notebook plots distributions of the cross section per 15 GeV bin in the di-Higgs mass, $m_{gg}$, for a few hundred points in the parameter space of the\n",
    "Higgs effective field theory (HEFT). The HEFT is defined by the 5D parameter space of Wilson coefficients[1],\n",
    "\\begin{align}\n",
    "    \\theta & = c_{hhh}, c_t, c_{tt}, c_{ggh}, c_{gghh}.\n",
    "\\end{align}\n",
    "\n",
    "### References\n",
    "  1. Lina Alasfar *et al.*, arXiv:2304.01968v1."
   ]
  },
  {
   "cell_type": "code",
   "execution_count": 1,
   "metadata": {
    "id": "FA1Y5VCv20XZ"
   },
   "outputs": [],
   "source": [
    "import os, sys\n",
    "\n",
    "# the standard module for tabular data\n",
    "import pandas as pd\n",
    "\n",
    "# the standard module for array manipulation\n",
    "import numpy as np\n",
    "\n",
    "# the standard modules for high-quality plots\n",
    "import matplotlib as mp\n",
    "import matplotlib.pyplot as plt\n",
    "%matplotlib inline"
   ]
  },
  {
   "cell_type": "code",
   "execution_count": 2,
   "metadata": {},
   "outputs": [],
   "source": [
    "# update fonts\n",
    "FONTSIZE = 14\n",
    "font = {'family' : 'serif',\n",
    "        'weight' : 'normal',\n",
    "        'size'   : FONTSIZE}\n",
    "mp.rc('font', **font)\n",
    "\n",
    "# set usetex = False if LaTex is not \n",
    "# available on your system or if the \n",
    "# rendering is too slow\n",
    "mp.rc('text', usetex=True)"
   ]
  },
  {
   "cell_type": "markdown",
   "metadata": {},
   "source": [
    "### Load data"
   ]
  },
  {
   "cell_type": "code",
   "execution_count": 4,
   "metadata": {},
   "outputs": [
    {
     "data": {
      "text/html": [
       "<div>\n",
       "<style scoped>\n",
       "    .dataframe tbody tr th:only-of-type {\n",
       "        vertical-align: middle;\n",
       "    }\n",
       "\n",
       "    .dataframe tbody tr th {\n",
       "        vertical-align: top;\n",
       "    }\n",
       "\n",
       "    .dataframe thead th {\n",
       "        text-align: right;\n",
       "    }\n",
       "</style>\n",
       "<table border=\"1\" class=\"dataframe\">\n",
       "  <thead>\n",
       "    <tr style=\"text-align: right;\">\n",
       "      <th></th>\n",
       "      <th>klambda</th>\n",
       "      <th>CT</th>\n",
       "      <th>CTT</th>\n",
       "      <th>CGHH</th>\n",
       "      <th>CGGHH</th>\n",
       "    </tr>\n",
       "  </thead>\n",
       "  <tbody>\n",
       "    <tr>\n",
       "      <th>0</th>\n",
       "      <td>1.824486</td>\n",
       "      <td>3.617048</td>\n",
       "      <td>0.596670</td>\n",
       "      <td>-0.692940</td>\n",
       "      <td>-2.819527</td>\n",
       "    </tr>\n",
       "    <tr>\n",
       "      <th>1</th>\n",
       "      <td>0.305763</td>\n",
       "      <td>2.157825</td>\n",
       "      <td>-1.531478</td>\n",
       "      <td>0.493841</td>\n",
       "      <td>-1.881899</td>\n",
       "    </tr>\n",
       "    <tr>\n",
       "      <th>2</th>\n",
       "      <td>1.493947</td>\n",
       "      <td>-0.761028</td>\n",
       "      <td>3.452457</td>\n",
       "      <td>-4.359866</td>\n",
       "      <td>-0.808658</td>\n",
       "    </tr>\n",
       "    <tr>\n",
       "      <th>3</th>\n",
       "      <td>0.186852</td>\n",
       "      <td>5.340556</td>\n",
       "      <td>1.049610</td>\n",
       "      <td>-0.504611</td>\n",
       "      <td>-0.020435</td>\n",
       "    </tr>\n",
       "    <tr>\n",
       "      <th>4</th>\n",
       "      <td>1.109340</td>\n",
       "      <td>1.377494</td>\n",
       "      <td>1.615746</td>\n",
       "      <td>-0.346222</td>\n",
       "      <td>0.141523</td>\n",
       "    </tr>\n",
       "  </tbody>\n",
       "</table>\n",
       "</div>"
      ],
      "text/plain": [
       "    klambda        CT       CTT      CGHH     CGGHH\n",
       "0  1.824486  3.617048  0.596670 -0.692940 -2.819527\n",
       "1  0.305763  2.157825 -1.531478  0.493841 -1.881899\n",
       "2  1.493947 -0.761028  3.452457 -4.359866 -0.808658\n",
       "3  0.186852  5.340556  1.049610 -0.504611 -0.020435\n",
       "4  1.109340  1.377494  1.615746 -0.346222  0.141523"
      ]
     },
     "execution_count": 4,
     "metadata": {},
     "output_type": "execute_result"
    }
   ],
   "source": [
    "df = pd.read_csv('../data/powheg_gauss_param.csv')\n",
    "\n",
    "df[:5]"
   ]
  },
  {
   "cell_type": "code",
   "execution_count": 6,
   "metadata": {},
   "outputs": [
    {
     "data": {
      "text/plain": [
       "['klambda', 'CT', 'CTT', 'CGHH', 'CGGHH']"
      ]
     },
     "execution_count": 6,
     "metadata": {},
     "output_type": "execute_result"
    }
   ],
   "source": [
    "columns = list(df.columns)\n",
    "columns"
   ]
  },
  {
   "cell_type": "code",
   "execution_count": 21,
   "metadata": {},
   "outputs": [
    {
     "data": {
      "image/png": "[encoded data removed]",
      "text/plain": [
       "<Figure size 800x500 with 6 Axes>"
      ]
     },
     "metadata": {},
     "output_type": "display_data"
    }
   ],
   "source": [
    "def plot_params(df, columns, \n",
    "                gfile='figures/fig_heft_params.png', \n",
    "                ftsize=12,\n",
    "                fgsize=(8, 5)):\n",
    "    \n",
    "    # define equally spaced points for m_hh\n",
    "    xbins= 32\n",
    "    xmin =-8\n",
    "    xmax = 8\n",
    "   \n",
    "    # make room for 6 sub-plots\n",
    "    fig, axes = plt.subplots(nrows=2, ncols=3, figsize=fgsize)\n",
    "    \n",
    "    # adjust padding between plots\n",
    "    plt.subplots_adjust(hspace=0.35)\n",
    "    plt.subplots_adjust(wspace=0.30)\n",
    "    \n",
    "    # use flatten() to convert a numpy array of \n",
    "    # shape (nrows, ncols) to a 1-d array. \n",
    "    axes = axes.flatten()\n",
    "   \n",
    "    kolor = ['red', 'orange', 'green', 'blue', \n",
    "             'steelblue', 'indigo', 'black']\n",
    "    \n",
    "    ymin, ymax = 0, 120\n",
    "    \n",
    "    for i in range(len(columns)):\n",
    "\n",
    "        xlabel = columns[i]\n",
    "        \n",
    "        ax = axes[i]\n",
    "        ax.set_xlim(xmin, xmax)\n",
    "        ax.set_xlabel(xlabel, fontsize=ftsize)\n",
    "        ax.set_ylim(ymin, ymax)\n",
    "        \n",
    "        c = kolor[i % len(kolor)]\n",
    "        ax.hist(df[xlabel], bins=xbins, range=(xmin, xmax), color=c, alpha=0.5)\n",
    "        ax.grid()\n",
    "        \n",
    "    # hide unused sub-plots\n",
    "    for k in range(len(columns), len(axes)):\n",
    "        axes[k].set_visible(False)\n",
    "    \n",
    "    plt.savefig(gfile)\n",
    "    plt.show()\n",
    "    \n",
    "plot_params(df, columns)"
   ]
  },
  {
   "cell_type": "code",
   "execution_count": null,
   "metadata": {},
   "outputs": [],
   "source": []
  }
 ],
 "metadata": {
  "accelerator": "GPU",
  "colab": {
   "collapsed_sections": [],
   "name": "DRL_19_REINFORCE_Algorithm.ipynb",
   "provenance": []
  },
  "kernelspec": {
   "display_name": "Python 3 (ipykernel)",
   "language": "python",
   "name": "python3"
  },
  "language_info": {
   "codemirror_mode": {
    "name": "ipython",
    "version": 3
   },
   "file_extension": ".py",
   "mimetype": "text/x-python",
   "name": "python",
   "nbconvert_exporter": "python",
   "pygments_lexer": "ipython3",
   "version": "3.11.8"
  }
 },
 "nbformat": 4,
 "nbformat_minor": 4
}
